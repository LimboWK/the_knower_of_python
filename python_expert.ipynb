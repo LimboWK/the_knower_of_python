{
 "metadata": {
  "language_info": {
   "codemirror_mode": {
    "name": "ipython",
    "version": 3
   },
   "file_extension": ".py",
   "mimetype": "text/x-python",
   "name": "python",
   "nbconvert_exporter": "python",
   "pygments_lexer": "ipython3",
   "version": "3.9.5"
  },
  "orig_nbformat": 4,
  "kernelspec": {
   "name": "python3",
   "display_name": "Python 3.9.5 64-bit"
  },
  "interpreter": {
   "hash": "767d51c1340bd893661ea55ea3124f6de3c7a262a8b4abca0554b478b1e2ff90"
  }
 },
 "nbformat": 4,
 "nbformat_minor": 2,
 "cells": [
  {
   "cell_type": "code",
   "execution_count": 1,
   "metadata": {},
   "outputs": [],
   "source": [
    "# this is a follow-up notebook on the video:https://www.youtube.com/watch?v=7lmCu8wz8ro&t=805s\n",
    "# which shows a model-oriented python tutorial\n"
   ]
  },
  {
   "cell_type": "code",
   "execution_count": 30,
   "metadata": {},
   "outputs": [],
   "source": [
    "class poly:\n",
    "    def __init__(self, *coefffs):\n",
    "        self.coeffs = coefffs\n",
    "    \n",
    "    def __add__(self, other):\n",
    "        # add two poly and return a new poly\n",
    "        # in case that two polys are not in the same order, we need to use the higher order one as a base.abs\n",
    "        # like (1,2,3,4)+(1,2,3) = (1,3,5,7)\n",
    "        if len(self.coeffs) < len(other.coeffs):\n",
    "            #for i in range(len(self.coeffs)):\n",
    "                \n",
    "            return poly(*(self.coeffs[i]+other.coeffs[i] for i in range(len(self.coeffs))))\n",
    "        else:\n",
    "            return poly(*(self.coeffs[i]+other.coeffs[i] for i in range(len(other.coeffs))))\n",
    "        \n",
    "        \n",
    "\n",
    "\n",
    "    def __value__(self,x):\n",
    "        value = 0\n",
    "        print(\"current poly coeffs are:\"+str(self.coeffs))\n",
    "        print(\"required x is:\"+str(x))\n",
    "        for k, coeff in enumerate(self.coeffs):\n",
    "               value += coeff*x**k\n",
    "        return value"
   ]
  },
  {
   "cell_type": "code",
   "execution_count": 32,
   "metadata": {},
   "outputs": [
    {
     "output_type": "stream",
     "name": "stdout",
     "text": [
      "current poly coeffs are:(5, 4, 3)\nrequired x is:1\n"
     ]
    },
    {
     "output_type": "execute_result",
     "data": {
      "text/plain": [
       "12"
      ]
     },
     "metadata": {},
     "execution_count": 32
    }
   ],
   "source": [
    "p1 = poly(1,1,1)\n",
    "p2 = poly(1,2,3,4)\n",
    "p3 = p1+p2\n",
    "p3.__value__(1)"
   ]
  },
  {
   "cell_type": "code",
   "execution_count": null,
   "metadata": {},
   "outputs": [],
   "source": []
  }
 ]
}